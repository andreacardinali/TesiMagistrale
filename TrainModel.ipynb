{
  "nbformat": 4,
  "nbformat_minor": 0,
  "metadata": {
    "colab": {
      "provenance": [],
      "authorship_tag": "ABX9TyPaCzoBhBcEiouFfof+dBCW",
      "include_colab_link": true
    },
    "kernelspec": {
      "name": "python3",
      "display_name": "Python 3"
    },
    "language_info": {
      "name": "python"
    }
  },
  "cells": [
    {
      "cell_type": "markdown",
      "metadata": {
        "id": "view-in-github",
        "colab_type": "text"
      },
      "source": [
        "<a href=\"https://colab.research.google.com/github/andreacardinali/TesiMagistrale/blob/master/TrainModel.ipynb\" target=\"_parent\"><img src=\"https://colab.research.google.com/assets/colab-badge.svg\" alt=\"Open In Colab\"/></a>"
      ]
    },
    {
      "cell_type": "markdown",
      "source": [
        "# Andrea Cardinali - Addestramento e valutazione di 4 CNN"
      ],
      "metadata": {
        "id": "6CDngBV3im3U"
      }
    },
    {
      "cell_type": "markdown",
      "source": [
        "Clone in locale del mio repository GIT su cui ho precedentemente effettuato l'upload del codice"
      ],
      "metadata": {
        "id": "rp6iRsf-iVPT"
      }
    },
    {
      "cell_type": "code",
      "execution_count": null,
      "metadata": {
        "id": "h6GXzqGGiT6B"
      },
      "outputs": [],
      "source": [
        "%cd /content\n",
        "!git clone -l --progress --verbose -s https://github.com/andreacardinali/TesiMagistrale.git /content/TesiMagistrale\n",
        "%cd /content/TesiMagistrale"
      ]
    },
    {
      "cell_type": "markdown",
      "source": [
        "Importazione dei moduli e delle funzioni necessarie"
      ],
      "metadata": {
        "id": "YF3udIxQjXM5"
      }
    },
    {
      "cell_type": "code",
      "source": [
        "import torch\n",
        "from common_functions import train_model, test_model, save_model, load_model, load_model_stats, save_model_stats, create_dataloader, plot_training_results\n",
        "from cnn import *"
      ],
      "metadata": {
        "id": "1mnK37sijaMK"
      },
      "execution_count": null,
      "outputs": []
    },
    {
      "cell_type": "markdown",
      "source": [
        "Inizializzazione device e variabili"
      ],
      "metadata": {
        "id": "2pjxMaCkj8wx"
      }
    },
    {
      "cell_type": "code",
      "source": [
        "device = torch.device(\"cuda:0\" if torch.cuda.is_available() else \"cpu\")\n",
        "print(f\"Device in use: {str(device)}\")\n",
        "if str(device) == \"cpu\":\n",
        "    batch_size = 50\n",
        "else:\n",
        "    batch_size = 100"
      ],
      "metadata": {
        "id": "GQaSex7Uj060"
      },
      "execution_count": null,
      "outputs": []
    },
    {
      "cell_type": "markdown",
      "source": [
        "Inizializzazione dei dataloader"
      ],
      "metadata": {
        "id": "_H3dJVQbkfwu"
      }
    },
    {
      "cell_type": "code",
      "source": [
        "train_loader, validate_loader = create_dataloader(train=True, batch_size=batch_size, normalize=False)\n",
        "test_loader = create_dataloader(train=False, batch_size=batch_size, normalize=False)\n",
        "num_classes = len(test_loader.dataset.classes)"
      ],
      "metadata": {
        "id": "PDJH_zqLkOsZ"
      },
      "execution_count": null,
      "outputs": []
    },
    {
      "cell_type": "markdown",
      "source": [
        "Inizializzazione delle CNN"
      ],
      "metadata": {
        "id": "H-qQk_xVkcbV"
      }
    },
    {
      "cell_type": "code",
      "source": [
        "model1 = CNN1(num_classes)\n",
        "model2 = CNN2(num_classes)\n",
        "model3 = CNN3(num_classes)\n",
        "model4 = CNN4(num_classes)"
      ],
      "metadata": {
        "id": "gvMXksgrkbfg"
      },
      "execution_count": null,
      "outputs": []
    },
    {
      "cell_type": "markdown",
      "source": [
        "Blocco di addestramento, visualizzazione grafico e test del modello (CNN1)"
      ],
      "metadata": {
        "id": "U5aV_r0Ckk8C"
      }
    },
    {
      "cell_type": "code",
      "source": [
        "train_model(model1, num_epochs=50, device=device, model_name=\"CNN1\", train_dataloader=train_loader, validation_dataloader=validate_loader, prevent_overfit=False, save_stats=True)\n",
        "#model1 = load_model(\"CNN1.pth\", device)\n",
        "plot_training_results(*load_model_stats(\"CNN1.pkl\"))\n",
        "test_model(model=model1, device=device, dataloader=test_loader, class_stats=True)"
      ],
      "metadata": {
        "id": "w3QBL-5fj3u9"
      },
      "execution_count": null,
      "outputs": []
    },
    {
      "cell_type": "markdown",
      "source": [
        "Blocco di addestramento, visualizzazione grafico e test del modello (CNN2)"
      ],
      "metadata": {
        "id": "PjsMnGeyl_L_"
      }
    },
    {
      "cell_type": "code",
      "source": [
        "train_model(model1, num_epochs=50, device=device, model_name=\"CNN2\", train_dataloader=train_loader, validation_dataloader=validate_loader, prevent_overfit=False, save_stats=True)\n",
        "#model2 = load_model(\"CNN2.pth\", device)\n",
        "plot_training_results(*load_model_stats(\"CNN2.pkl\"))\n",
        "test_model(model=model1, device=device, dataloader=test_loader, class_stats=True)"
      ],
      "metadata": {
        "id": "JCneJVtPl_MA"
      },
      "execution_count": null,
      "outputs": []
    },
    {
      "cell_type": "markdown",
      "source": [
        "Blocco di addestramento, visualizzazione grafico e test del modello (CNN3)"
      ],
      "metadata": {
        "id": "GTy0Q7-vl_Yo"
      }
    },
    {
      "cell_type": "code",
      "source": [
        "train_model(model3, num_epochs=50, device=device, model_name=\"CNN3\", train_dataloader=train_loader, validation_dataloader=validate_loader, prevent_overfit=False, save_stats=True)\n",
        "#model3 = load_model(\"CNN3.pth\", device)\n",
        "plot_training_results(*load_model_stats(\"CNN3.pkl\"))\n",
        "test_model(model=model3, device=device, dataloader=test_loader, class_stats=True)"
      ],
      "metadata": {
        "id": "pQsIReudl_Yo"
      },
      "execution_count": null,
      "outputs": []
    },
    {
      "cell_type": "markdown",
      "source": [
        "Blocco di addestramento, visualizzazione grafico e test del modello (CNN4)"
      ],
      "metadata": {
        "id": "f_b38rpxl_qn"
      }
    },
    {
      "cell_type": "code",
      "source": [
        "train_model(model4, num_epochs=50, device=device, model_name=\"CNN4\", train_dataloader=train_loader, validation_dataloader=validate_loader, prevent_overfit=False, save_stats=True)\n",
        "#model4 = load_model(\"CNN4.pth\", device)\n",
        "plot_training_results(*load_model_stats(\"CNN4.pkl\"))\n",
        "test_model(model=model1, device=device, dataloader=test_loader, class_stats=True)"
      ],
      "metadata": {
        "id": "3fu0ke9ul_qo"
      },
      "execution_count": null,
      "outputs": []
    }
  ]
}